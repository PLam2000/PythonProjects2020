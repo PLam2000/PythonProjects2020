{
 "cells": [
  {
   "cell_type": "markdown",
   "metadata": {},
   "source": [
    "## Project 3: VaR Calculator\n",
    "\n",
    "For my thid project, I wanted to try and make a simple function to calculate the Value at Risk of investing in a certain index or stock.\n",
    "Value at Risk measures the level of financial risk within a portfolio or position over a specific time frame.\n"
   ]
  },
  {
   "cell_type": "code",
   "execution_count": 99,
   "metadata": {},
   "outputs": [
    {
     "data": {
      "image/png": "[encoded data removed]",
      "text/plain": [
       "<Figure size 432x288 with 1 Axes>"
      ]
     },
     "metadata": {
      "needs_background": "light"
     },
     "output_type": "display_data"
    },
    {
     "name": "stdout",
     "output_type": "stream",
     "text": [
      "At a confidence level of 90 perent your Value at Risk is -0.030036\n",
      "At a confidence level of 95 perent your Value at Risk is 0.046904\n",
      "At a confidence level of 99 perent your Value at Risk is -0.057506\n"
     ]
    }
   ],
   "source": [
    "#First I imported the necessary libraries. Yfinance is needed for historical stock prices.\n",
    "import pandas as pd\n",
    "import numpy as np\n",
    "import yfinance as yf\n",
    "import matplotlib.pyplot as plt\n",
    "import scipy.stats as scipy\n",
    "import seaborn as sns\n",
    "%matplotlib inline\n",
    "\n",
    "#Here I define the function VaR_Calc, where you can input the stock ticker name and the time frame you are examining. \n",
    "def VaR_Calc(s1,time):\n",
    "    \n",
    "    #Here I find the percentage returns of the stock.\n",
    "    stock1 = yf.Ticker(s1)\n",
    "    stock1_hist = stock1.history(period= time)\n",
    "    stock_choice = stock1_hist['Close']\n",
    "    stock_choice = stock_choice.dropna()\n",
    "    stock1_PercentageReturn = pd.DataFrame(stock_choice)\n",
    "    x = stock1_PercentageReturn.pct_change()\n",
    "    x = x.dropna()\n",
    "    \n",
    "    #Then find the mean and standard deviation of the returns\n",
    "    mean = np.mean(x['Close'])\n",
    "    std = np.std(x['Close'])\n",
    "    \n",
    "    #Plot out the returns vs the normal distribution.\n",
    "    x['Close'].hist(bins=100, normed=True)\n",
    "    best_fit_line = np.linspace(mean - 3*std, mean+3*std,100)\n",
    "    plt.plot(best_fit_line, scipy.norm.pdf(best_fit_line, mean, std), \"r\")\n",
    "    plt.title(\"Returns vs. Normal Distribution\")\n",
    "    plt.xlabel('Return')\n",
    "    plt.ylabel('Frequency')\n",
    "\n",
    "    plt.show()\n",
    "\n",
    "    #Calculate the VaR at different confidence intervals based on mean and standard deviation of returns.\n",
    "    VaR_90 = norm.ppf(1-0.9,mean,std)\n",
    "    VaR_95 = norm.ppf(1-0.05, mean,std)\n",
    "    VaR_99 = norm.ppf(1-0.99, mean, std)\n",
    "    \n",
    "    #If somone has a X% confidence level, he is X% certain that the VaR will fall within this confidence interval.\n",
    "    print(\"At a confidence level of 90 perent your Value at Risk is %f\" %VaR_90)\n",
    "    print(\"At a confidence level of 95 perent your Value at Risk is %f\" %VaR_95)\n",
    "    print(\"At a confidence level of 99 perent your Value at Risk is %f\" %VaR_99)\n",
    "    \n",
    "VaR_Calc(\"AAPL\", \"1y\")\n"
   ]
  },
  {
   "cell_type": "code",
   "execution_count": null,
   "metadata": {},
   "outputs": [],
   "source": []
  },
  {
   "cell_type": "code",
   "execution_count": null,
   "metadata": {},
   "outputs": [],
   "source": []
  }
 ],
 "metadata": {
  "kernelspec": {
   "display_name": "Python 2",
   "language": "python",
   "name": "python2"
  },
  "language_info": {
   "codemirror_mode": {
    "name": "ipython",
    "version": 2
   },
   "file_extension": ".py",
   "mimetype": "text/x-python",
   "name": "python",
   "nbconvert_exporter": "python",
   "pygments_lexer": "ipython2",
   "version": "2.7.10"
  }
 },
 "nbformat": 4,
 "nbformat_minor": 2
}
