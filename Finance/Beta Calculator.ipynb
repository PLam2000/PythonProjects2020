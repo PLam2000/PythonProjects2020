{
 "cells": [
  {
   "cell_type": "markdown",
   "metadata": {},
   "source": [
    "## Project 2: Beta Calculator\n",
    "\n",
    "For my second project, I decided to try and make a simple function to calculate a stock's beta, which measures a stock's volatility relative to the market. If a stock has a beta of 1, its price is strongly correlated with the market. If it is higher than 1, it is more volatile than the market. If it is lower than 1, it is less volatile than the market.\n",
    "\n",
    "There are different ways to calculate beta, but for my function I calculated beta by dividing the covariance of the stock's returns with market returns by the variance of the market:\n",
    "\n",
    "$\\beta = Cov(stock,market)/Var(market)$\n",
    "\n",
    "Beta is usually calculated over a 5-year period with monthly returns but my function can use different time periods for the overall period as well the length of interval or returns. The benchmark I use for the market is the SPDR S&P 500 (SPY), an ETF that tracks the S&P 500 stock market index.\n",
    "\n"
   ]
  },
  {
   "cell_type": "code",
   "execution_count": 1,
   "metadata": {},
   "outputs": [],
   "source": [
    "#Import the necessary libraries. Yfinance is where you get historical stock prices.\n",
    "import pandas as pd\n",
    "import numpy as np\n",
    "import yfinance as yf\n",
    "\n",
    "#Here I define the function beta_Calc. \n",
    "#s1 stands for stock1. Time is the overall time period of the beta calculation. Interval is the interval for returns. \n",
    "def beta_Calc(s1,time, interval):\n",
    "   \n",
    "    #The first step is to pull the historical closing price data of the chosen stock and of the SPY. All null values are dropped.\n",
    "    stock1 = yf.Ticker(s1)\n",
    "    stock1_hist = stock1.history(period=time, interval=interval)\n",
    "    stock_choice = stock1_hist['Close']\n",
    "    stock_choice = stock_choice.dropna()\n",
    "   \n",
    "    spy = yf.Ticker(\"SPY\")\n",
    "    spy_hist = spy.history(period=time, interval=interval)\n",
    "    benchmark = spy_hist['Close']\n",
    "    benchmark = benchmark.dropna()\n",
    "    \n",
    "    #These sections calculate the percentage change of returns and drops null values.\n",
    "    stock1_PercentageReturn = pd.DataFrame(stock_choice)\n",
    "    x = stock1_PercentageReturn.pct_change()\n",
    "    x = x.dropna()\n",
    "   \n",
    "    benchmark_PercentageReturn = pd.DataFrame(benchmark)\n",
    "    y = benchmark_PercentageReturn.pct_change()\n",
    "    y = y.dropna()\n",
    "    \n",
    "    #This section combines the two columns of data into one data frame.\n",
    "    combo = np.column_stack((x,y))\n",
    "    combo_df = pd.DataFrame(combo) \n",
    "    \n",
    "    #Now that the two columns are combined, we can take the covariance of the stock to the market.\n",
    "    #We also calculate the variance of the market.\n",
    "    covariance = combo_df.cov()\n",
    "    final_covariance = covariance.iloc[0,1]\n",
    "    variance = np.var(y) \n",
    "    \n",
    "    #Finally we divide the covariance by the variance to get beta.\n",
    "    Beta = final_covariance/variance\n",
    "    print(\"Your Beta is: %f\" %Beta)\n"
   ]
  },
  {
   "cell_type": "code",
   "execution_count": 12,
   "metadata": {
    "scrolled": true
   },
   "outputs": [
    {
     "name": "stdout",
     "output_type": "stream",
     "text": [
      "Your Beta is: 0.546585\n"
     ]
    }
   ],
   "source": [
    "#We call the function by typing the desired stock symbol, followed by the desired time period, followed by the desired interval of returns.\n",
    "beta_Calc(\"KO\", \"5y\", \"1mo\")"
   ]
  },
  {
   "cell_type": "markdown",
   "metadata": {},
   "source": [
    "![As a test, we can compare my function to Yahoo Finance's 5Y Monthly Beta.](https://i.imgur.com/5DYccqYl.png)"
   ]
  }
 ],
 "metadata": {
  "kernelspec": {
   "display_name": "Python 2",
   "language": "python",
   "name": "python2"
  },
  "language_info": {
   "codemirror_mode": {
    "name": "ipython",
    "version": 2
   },
   "file_extension": ".py",
   "mimetype": "text/x-python",
   "name": "python",
   "nbconvert_exporter": "python",
   "pygments_lexer": "ipython2",
   "version": "2.7.10"
  }
 },
 "nbformat": 4,
 "nbformat_minor": 2
}
